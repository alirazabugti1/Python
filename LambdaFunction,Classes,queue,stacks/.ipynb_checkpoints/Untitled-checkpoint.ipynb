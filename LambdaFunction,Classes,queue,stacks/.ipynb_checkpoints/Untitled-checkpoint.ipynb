{
 "cells": [
  {
   "cell_type": "code",
   "execution_count": 35,
   "id": "51e8b870-aff3-42b6-80a7-b261fd838d96",
   "metadata": {},
   "outputs": [
    {
     "name": "stdout",
     "output_type": "stream",
     "text": [
      "25\n"
     ]
    }
   ],
   "source": [
    "#Lambda Function\n",
    "#syntax\n",
    "#lambda arguments:expression\n",
    "\n",
    "square=lambda x:x*x\n",
    "print(square(5))\n",
    "from collections import deque\n"
   ]
  },
  {
   "cell_type": "code",
   "execution_count": 5,
   "id": "3008db21-7a45-4595-9f4a-2275cacaf415",
   "metadata": {},
   "outputs": [
    {
     "name": "stdout",
     "output_type": "stream",
     "text": [
      "4\n"
     ]
    }
   ],
   "source": [
    "addition=lambda add:add*add\n",
    "print(addition(2))"
   ]
  },
  {
   "cell_type": "code",
   "execution_count": 8,
   "id": "cc09e5ee-224d-4549-8387-c693d03f3ab7",
   "metadata": {},
   "outputs": [
    {
     "name": "stdout",
     "output_type": "stream",
     "text": [
      "20\n"
     ]
    }
   ],
   "source": [
    "#lambda function with multiple parameters\n",
    "multiply = lambda x,y:x*y\n",
    "print(multiply(5,4))"
   ]
  },
  {
   "cell_type": "code",
   "execution_count": 9,
   "id": "b9c20415-1214-4134-b07e-da08ff99d9bd",
   "metadata": {},
   "outputs": [
    {
     "name": "stdout",
     "output_type": "stream",
     "text": [
      "[8, 10, 11, 12, 13, 17, 21]\n"
     ]
    }
   ],
   "source": [
    "# Filter all list items greater than 7\n",
    "numbers_list = [2, 6, 8, 10, 11, 4, 12, 7, 13, 17, 0, 3, 21]\n",
    "filtered_list = list(filter(lambda num: (num> 7), numbers_list))\n",
    "print(filtered_list)\t"
   ]
  },
  {
   "cell_type": "code",
   "execution_count": 11,
   "id": "afec2663-f155-4562-8522-159348e2ba7a",
   "metadata": {},
   "outputs": [
    {
     "name": "stdout",
     "output_type": "stream",
     "text": [
      "[1, 2, 3, 4, 5]\n"
     ]
    }
   ],
   "source": [
    "#map function usage\n",
    "#syntax\n",
    "#map(function,iterable)\n",
    "str_digits=['1','2','3','4','5']\n",
    "#converting these strings into list of int's using map function\n",
    "int_digits=map(int,str_digits)\n",
    "print(list(int_digits))"
   ]
  },
  {
   "cell_type": "code",
   "execution_count": 12,
   "id": "8a535107-5b57-4f84-a060-c9a7a6f3ea09",
   "metadata": {},
   "outputs": [
    {
     "name": "stdout",
     "output_type": "stream",
     "text": [
      "[7, 5, 4, 4]\n"
     ]
    }
   ],
   "source": [
    "#length of every word in the string\n",
    "strings=[\"aliraza\",\"bugti\",\"MAJU\",\"2026\"]\n",
    "lengths=map(len,strings)\n",
    "print(list(lengths))"
   ]
  },
  {
   "cell_type": "code",
   "execution_count": 12,
   "id": "6149e3ee-5597-476e-9b1a-237ec2c4b319",
   "metadata": {},
   "outputs": [],
   "source": [
    "#Python Generators: Generator does lazy evaluation they generate numbers only when needed which is effecient for memory.\n",
    "def myGenerator1(n):\n",
    "    for i in range(n):\n",
    "        yield i\n"
   ]
  },
  {
   "cell_type": "code",
   "execution_count": 13,
   "id": "24cf16e1-1b57-494e-931c-e29e679aed0e",
   "metadata": {},
   "outputs": [
    {
     "name": "stdout",
     "output_type": "stream",
     "text": [
      "0\n",
      "1\n",
      "2\n",
      "3\n",
      "4\n",
      "5\n",
      "6\n",
      "7\n",
      "8\n",
      "9\n"
     ]
    }
   ],
   "source": [
    "for num in myGenerator1(10):\n",
    "    print(num)"
   ]
  },
  {
   "cell_type": "code",
   "execution_count": 15,
   "id": "5a365853-e62f-40d8-b6c6-4805f02f4a8b",
   "metadata": {},
   "outputs": [
    {
     "name": "stdout",
     "output_type": "stream",
     "text": [
      "Start\n",
      "1\n",
      "Yielded 1\n",
      "2\n",
      "Yielded 2\n",
      "3\n",
      "----Paused Here----\n",
      "Paused after 3\n",
      "4\n",
      "Yielded 4\n",
      "5\n"
     ]
    }
   ],
   "source": [
    "def my_generator():\n",
    "    print(\"Start\")\n",
    "    yield 1\n",
    "    print(\"Yielded 1\")\n",
    "    yield 2\n",
    "    print(\"Yielded 2\")\n",
    "    yield 3\n",
    "    print(\"Paused after 3\")  # This will show when 3 is yielded\n",
    "    yield 4\n",
    "    print(\"Yielded 4\")\n",
    "    yield 5\n",
    "    print(\"Yielded 5 - Done\")\n",
    "\n",
    "# Create generator object\n",
    "gen = my_generator()\n",
    "\n",
    "# First 3 values manually\n",
    "print(next(gen))  # Start -> 1\n",
    "print(next(gen))  # Yielded 1 -> 2\n",
    "print(next(gen))  # Yielded 2 -> 3\n",
    "\n",
    "# Pause here\n",
    "print(\"----Paused Here----\")\n",
    "\n",
    "# Continue later\n",
    "print(next(gen))  # Yielded 3 -> 4\n",
    "print(next(gen))  # Yielded 4 -> 5\n"
   ]
  },
  {
   "cell_type": "code",
   "execution_count": 20,
   "id": "61206e3e-463c-409c-ba82-8106114feea0",
   "metadata": {},
   "outputs": [
    {
     "name": "stdout",
     "output_type": "stream",
     "text": [
      "Artificial Intelligence\n",
      "AI Lab: AI Lab is fun\n"
     ]
    }
   ],
   "source": [
    "class myClass:\n",
    "    str = \"Cool\"\n",
    "    \n",
    "    def method1(self):\n",
    "        print(\"Artificial Intelligence\")\n",
    "        \n",
    "    def method2(self, someString):\n",
    "        self.str = someString  \n",
    "        print(\"AI Lab:\", someString) \n",
    "\n",
    "def main():\n",
    "    c = myClass()  \n",
    "    c.method1() \n",
    "    c.method2(\"AI Lab is fun\") \n",
    "\n",
    "if __name__ == \"__main__\":\n",
    "    main()  \n"
   ]
  },
  {
   "cell_type": "code",
   "execution_count": 25,
   "id": "c314903a-a729-48db-9c37-0d666b95f7a1",
   "metadata": {},
   "outputs": [
    {
     "name": "stdout",
     "output_type": "stream",
     "text": [
      "python\n",
      "anaconda\n"
     ]
    }
   ],
   "source": [
    "#class with constructor\n",
    "class Snake:\n",
    "    def __init__(self, name):\n",
    "        self.name = name\n",
    "    \n",
    "    def change_name(self, new_name):\n",
    "        self.name = new_name\n",
    "\n",
    "python = Snake(\"python\")\n",
    "anaconda = Snake(\"anaconda\")\n",
    "print(python.name)\t# python\n",
    "print(anaconda.name)\t# anaconda\n"
   ]
  },
  {
   "cell_type": "code",
   "execution_count": 29,
   "id": "90c2a5f5-6b7c-42b5-ba89-44ba65c684d0",
   "metadata": {},
   "outputs": [
    {
     "name": "stdout",
     "output_type": "stream",
     "text": [
      "Salary Employee Payroll: 1000\n",
      "Hourly Employee Payroll: 600\n",
      "Commission Employee Payroll: 1200\n"
     ]
    }
   ],
   "source": [
    "# Parent Class: Employee\n",
    "class Employee:\n",
    "    def __init__(self, id, name):\n",
    "        self.id = id\n",
    "        self.name = name\n",
    "\n",
    "# Child Class: SalaryEmployee\n",
    "class SalaryEmployee(Employee):\n",
    "    def __init__(self, id, name, weekly_salary):\n",
    "        super().__init__(id, name)  # Call the parent constructor\n",
    "        self.weekly_salary = weekly_salary\n",
    "\n",
    "    def calculate_payroll(self):\n",
    "        return self.weekly_salary\n",
    "\n",
    "# Child Class: HourlyEmployee\n",
    "class HourlyEmployee(Employee):\n",
    "    def __init__(self, id, name, hours_worked, hour_rate):\n",
    "        super().__init__(id, name)  # Call the parent constructor\n",
    "        self.hours_worked = hours_worked\n",
    "        self.hour_rate = hour_rate\n",
    "\n",
    "    def calculate_payroll(self):\n",
    "        return self.hours_worked * self.hour_rate\n",
    "\n",
    "# Child Class: CommissionEmployee\n",
    "class CommissionEmployee(SalaryEmployee):\n",
    "    def __init__(self, id, name, weekly_salary, commission):\n",
    "        super().__init__(id, name, weekly_salary)  # Call the parent constructor\n",
    "        self.commission = commission\n",
    "\n",
    "    def calculate_payroll(self):\n",
    "        fixed = super().calculate_payroll()  # Call the parent method\n",
    "        return fixed + self.commission\n",
    "\n",
    "# Main function to call and test the classes\n",
    "def main():\n",
    "    # Creating instances of each employee type\n",
    "    salary_employee = SalaryEmployee(1, \"Alice\", 1000)\n",
    "    hourly_employee = HourlyEmployee(2, \"Bob\", 40, 15)\n",
    "    commission_employee = CommissionEmployee(3, \"Charlie\", 1000, 200)\n",
    "\n",
    "    # Printing payroll for each\n",
    "    print(f\"Salary Employee Payroll: {salary_employee.calculate_payroll()}\")  # Output: 1000\n",
    "    print(f\"Hourly Employee Payroll: {hourly_employee.calculate_payroll()}\")  # Output: 600 (40 hours * 15 per hour)\n",
    "    print(f\"Commission Employee Payroll: {commission_employee.calculate_payroll()}\")  # Output: 1200 (1000 salary + 200 commission)\n",
    "\n",
    "# Ensure main() is called when script is executed directly\n",
    "if __name__ == \"__main__\":\n",
    "    main()  # Calling the main function\n"
   ]
  },
  {
   "cell_type": "code",
   "execution_count": 32,
   "id": "93d03052-bca3-4516-a1e8-43c2495910b2",
   "metadata": {},
   "outputs": [
    {
     "data": {
      "text/plain": [
       "['1', '2']"
      ]
     },
     "execution_count": 32,
     "metadata": {},
     "output_type": "execute_result"
    }
   ],
   "source": [
    "#Stack in python: Stacks are Last in First out (LIFO) data strucutres.\n",
    "\n",
    "mystack = []\n",
    "\n",
    "mystack.append('1')\n",
    "mystack.append('2')\n",
    "mystack.append('3')\n",
    "\n",
    "mystack\n",
    "\n",
    "mystack.pop()\n",
    "\n",
    "mystack"
   ]
  },
  {
   "cell_type": "code",
   "execution_count": 44,
   "id": "3fd37cff-cd55-4a20-806d-08bc8e02b9ce",
   "metadata": {},
   "outputs": [
    {
     "data": {
      "text/plain": [
       "deque(['eat', 'sleep', 'code'])"
      ]
     },
     "execution_count": 44,
     "metadata": {},
     "output_type": "execute_result"
    }
   ],
   "source": [
    "q = deque()\n",
    "\n",
    "q.append('eat')\n",
    "q.append('sleep')\n",
    "q.append('code')\n",
    "\n",
    "q"
   ]
  },
  {
   "cell_type": "code",
   "execution_count": 47,
   "id": "acf26baa-bfb5-42b0-92e7-b60532a435d1",
   "metadata": {},
   "outputs": [
    {
     "name": "stdout",
     "output_type": "stream",
     "text": [
      "Vertices: ['A', 'B', 'C', 'D', 'E', 'F']\n",
      "Edges: [{'A', 'B'}, {'A', 'C'}, {'C', 'B'}, {'B', 'D'}, {'C', 'D'}, {'F', 'E'}, {'C', 'F'}]\n",
      "Vertices after adding G: ['A', 'B', 'C', 'D', 'E', 'F', 'G']\n",
      "Edges after adding edge G-A: [{'A', 'B'}, {'A', 'C'}, {'A', 'G'}, {'C', 'B'}, {'B', 'D'}, {'C', 'D'}, {'F', 'E'}, {'C', 'F'}]\n"
     ]
    }
   ],
   "source": [
    "#Graphs\n",
    "class Graph:\n",
    "    def __init__(self, gdict=None):\n",
    "        if gdict is None:\n",
    "            gdict = {}\n",
    "        self.gdict = gdict\n",
    "\n",
    "    def getVertices(self):\n",
    "        return list(self.gdict.keys())\n",
    "\n",
    "    # Add the vertex as a key\n",
    "    def addVertex(self, vrtx):\n",
    "        if vrtx not in self.gdict:\n",
    "            self.gdict[vrtx] = []\n",
    "\n",
    "    def edges(self):\n",
    "        return self.findedges()\n",
    "\n",
    "    # Add the new edge\n",
    "    def AddEdge(self, edge):\n",
    "        edge = set(edge)\n",
    "        (vrtx1, vrtx2) = tuple(edge)\n",
    "        if vrtx1 in self.gdict:\n",
    "            self.gdict[vrtx1].append(vrtx2)\n",
    "        else:\n",
    "            self.gdict[vrtx1] = [vrtx2]\n",
    "\n",
    "    # List the edge names\n",
    "    def findedges(self):\n",
    "        edgename = []\n",
    "        for vrtx in self.gdict:\n",
    "            for nxtvrtx in self.gdict[vrtx]:\n",
    "                if {nxtvrtx, vrtx} not in edgename:\n",
    "                    edgename.append({vrtx, nxtvrtx})\n",
    "        return edgename\n",
    "\n",
    "\n",
    "def main():\n",
    "    graph_elements = {\n",
    "        'A': ['B', 'C'],\n",
    "        'B': ['C', 'D'],\n",
    "        'C': ['D'],\n",
    "        'D': ['C'],\n",
    "        'E': ['F'],\n",
    "        'F': ['C']\n",
    "    }\n",
    "\n",
    "    g = Graph(graph_elements)\n",
    "    print(\"Vertices:\", g.getVertices())\n",
    "    print(\"Edges:\", g.edges())\n",
    "\n",
    "    g.addVertex('G')\n",
    "    g.AddEdge(('G', 'A'))\n",
    "\n",
    "    print(\"Vertices after adding G:\", g.getVertices())\n",
    "    print(\"Edges after adding edge G-A:\", g.edges())\n",
    "\n",
    "\n",
    "if __name__ == \"__main__\":\n",
    "    main()\n"
   ]
  },
  {
   "cell_type": "code",
   "execution_count": null,
   "id": "fe850c53-bbbb-4487-86d7-acf727bdde07",
   "metadata": {},
   "outputs": [],
   "source": []
  }
 ],
 "metadata": {
  "kernelspec": {
   "display_name": "Python 3 (ipykernel)",
   "language": "python",
   "name": "python3"
  },
  "language_info": {
   "codemirror_mode": {
    "name": "ipython",
    "version": 3
   },
   "file_extension": ".py",
   "mimetype": "text/x-python",
   "name": "python",
   "nbconvert_exporter": "python",
   "pygments_lexer": "ipython3",
   "version": "3.13.3"
  }
 },
 "nbformat": 4,
 "nbformat_minor": 5
}
