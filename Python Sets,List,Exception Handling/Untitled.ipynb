{
 "cells": [
  {
   "cell_type": "code",
   "execution_count": 26,
   "id": "c0d056d4-4411-45b2-8d38-560c6d27801e",
   "metadata": {},
   "outputs": [],
   "source": [
    "#Sets \n",
    "#Sets Remove Duplicate occurences\n",
    "dataScientist = set(['Python', 'R', 'SQL', 'Git', 'Tableau', 'SAS'])\n",
    "dataEngineer = set(['Python', 'Java', 'Scala', 'Git', 'SQL', 'Hadoop'])"
   ]
  },
  {
   "cell_type": "code",
   "execution_count": 27,
   "id": "8af37075-d8dd-40a7-802a-b53546498071",
   "metadata": {},
   "outputs": [
    {
     "data": {
      "text/plain": [
       "{'Git', 'Python', 'R', 'SAS', 'SQL', 'Tableau'}"
      ]
     },
     "execution_count": 27,
     "metadata": {},
     "output_type": "execute_result"
    }
   ],
   "source": [
    "dataScientist"
   ]
  },
  {
   "cell_type": "code",
   "execution_count": 28,
   "id": "d04600ff-56eb-4c49-9814-2e80d2b25adb",
   "metadata": {},
   "outputs": [
    {
     "data": {
      "text/plain": [
       "{'Git', 'Hadoop', 'Java', 'Python', 'SQL', 'Scala'}"
      ]
     },
     "execution_count": 28,
     "metadata": {},
     "output_type": "execute_result"
    }
   ],
   "source": [
    "dataEngineer"
   ]
  },
  {
   "cell_type": "code",
   "execution_count": 29,
   "id": "aeff1de9-fd08-4763-8b2f-6f85655e0846",
   "metadata": {},
   "outputs": [
    {
     "data": {
      "text/plain": [
       "{'Acrobat', 'Bridge', 'InDesign', 'Photoshop', 'Premiere'}"
      ]
     },
     "execution_count": 29,
     "metadata": {},
     "output_type": "execute_result"
    }
   ],
   "source": [
    "# Initialize set with values\n",
    "graphicDesigner = {'InDesign', 'Photoshop', 'Acrobat', 'Premiere', 'Bridge'}\n",
    "graphicDesigner"
   ]
  },
  {
   "cell_type": "code",
   "execution_count": 30,
   "id": "59815daf-ae44-4d03-91d1-929a7b5b6c15",
   "metadata": {},
   "outputs": [
    {
     "data": {
      "text/plain": [
       "{'Acrobat', 'Bridge', 'Illustrator', 'InDesign', 'Photoshop', 'Premiere'}"
      ]
     },
     "execution_count": 30,
     "metadata": {},
     "output_type": "execute_result"
    }
   ],
   "source": [
    "#Add New Value to set\n",
    "graphicDesigner.add('Illustrator')\n",
    "graphicDesigner"
   ]
  },
  {
   "cell_type": "code",
   "execution_count": 31,
   "id": "82a05c56-aff9-43cc-84ad-57b59d07a864",
   "metadata": {},
   "outputs": [
    {
     "data": {
      "text/plain": [
       "{'Acrobat', 'Illustrator', 'InDesign', 'Photoshop', 'Premiere'}"
      ]
     },
     "execution_count": 31,
     "metadata": {},
     "output_type": "execute_result"
    }
   ],
   "source": [
    "#Remove value from set\n",
    "graphicDesigner.remove('Bridge')\n",
    "graphicDesigner"
   ]
  },
  {
   "cell_type": "code",
   "execution_count": 33,
   "id": "38261eff-0fa8-4d43-b479-1c83d5a5772a",
   "metadata": {},
   "outputs": [
    {
     "data": {
      "text/plain": [
       "{'Acrobat', 'InDesign', 'Photoshop', 'Premiere'}"
      ]
     },
     "execution_count": 33,
     "metadata": {},
     "output_type": "execute_result"
    }
   ],
   "source": [
    "#Another Way to Remove value from set\n",
    "graphicDesigner.discard('Illustrator')\n",
    "graphicDesigner"
   ]
  },
  {
   "cell_type": "code",
   "execution_count": 34,
   "id": "06f16d93-58ff-4bcb-8efe-266b9978d3c3",
   "metadata": {},
   "outputs": [
    {
     "data": {
      "text/plain": [
       "'InDesign'"
      ]
     },
     "execution_count": 34,
     "metadata": {},
     "output_type": "execute_result"
    }
   ],
   "source": [
    "#Remove and Return a value from set\n",
    "value=graphicDesigner.pop()\n",
    "value"
   ]
  },
  {
   "cell_type": "code",
   "execution_count": 35,
   "id": "5b0ec4bb-ae95-46e3-8855-da31a0b53cf2",
   "metadata": {},
   "outputs": [
    {
     "data": {
      "text/plain": [
       "{'Acrobat', 'Photoshop', 'Premiere'}"
      ]
     },
     "execution_count": 35,
     "metadata": {},
     "output_type": "execute_result"
    }
   ],
   "source": [
    "graphicDesigner #->See Now InDesign is removed"
   ]
  },
  {
   "cell_type": "code",
   "execution_count": 36,
   "id": "104f98a1-0836-4de5-8d91-e6dc89842f9c",
   "metadata": {},
   "outputs": [],
   "source": [
    "#Remove All Values from set\n",
    "graphicDesigner.clear()"
   ]
  },
  {
   "cell_type": "code",
   "execution_count": 37,
   "id": "9a5e2f9a-f46e-454a-a326-1f67c9c32a10",
   "metadata": {},
   "outputs": [
    {
     "data": {
      "text/plain": [
       "set()"
      ]
     },
     "execution_count": 37,
     "metadata": {},
     "output_type": "execute_result"
    }
   ],
   "source": [
    "graphicDesigner"
   ]
  },
  {
   "cell_type": "code",
   "execution_count": 38,
   "id": "c58eb873-71ed-471a-b490-e8b40e40a209",
   "metadata": {},
   "outputs": [],
   "source": [
    "#Set Operations\n",
    "# Python sets have methods that allow you to perform these mathematical operations like\n",
    "# union, intersection, difference, and symmetric difference. Let’s initialize two sets to work on\n",
    "# our examples:\n",
    "# Initialize sets\n",
    "dataScientist = set(['Python', 'R', 'SQL', 'Git', 'Tableau', 'SAS'])\n",
    "dataEngineer = set(['Python', 'Java', 'Scala', 'Git', 'SQL', 'Hadoop']\n",
    ")\n"
   ]
  },
  {
   "cell_type": "code",
   "execution_count": 44,
   "id": "772ad247-764d-47ec-8a78-f4f4369b477c",
   "metadata": {},
   "outputs": [
    {
     "data": {
      "text/plain": [
       "{'Git', 'Hadoop', 'Java', 'Python', 'R', 'SAS', 'SQL', 'Scala', 'Tableau'}"
      ]
     },
     "execution_count": 44,
     "metadata": {},
     "output_type": "execute_result"
    }
   ],
   "source": [
    "#Union= DatScientist | Data Engineer\n",
    "dataScientist.union(dataEngineer)"
   ]
  },
  {
   "cell_type": "code",
   "execution_count": 45,
   "id": "462c6f43-7ecb-4ae6-9ef2-53f3bb0e7cd5",
   "metadata": {},
   "outputs": [
    {
     "data": {
      "text/plain": [
       "{'Git', 'Python', 'SQL'}"
      ]
     },
     "execution_count": 45,
     "metadata": {},
     "output_type": "execute_result"
    }
   ],
   "source": [
    "#Intersection= dataScientist & dataEngineer\n",
    "dataScientist.intersection(dataEngineer)"
   ]
  },
  {
   "cell_type": "code",
   "execution_count": 48,
   "id": "b93d8cfe-81ec-4496-8aa6-79968c1d0214",
   "metadata": {},
   "outputs": [
    {
     "data": {
      "text/plain": [
       "False"
      ]
     },
     "execution_count": 48,
     "metadata": {},
     "output_type": "execute_result"
    }
   ],
   "source": [
    "#Disjoint\n",
    "# disjoint means they have different elements here sets have common values so disjoint will return False\n",
    "dataScientist.isdisjoint(dataEngineer)"
   ]
  },
  {
   "cell_type": "code",
   "execution_count": 49,
   "id": "78e019b6-6efa-4eed-81e8-cbdcf02ab6bf",
   "metadata": {},
   "outputs": [
    {
     "data": {
      "text/plain": [
       "{'R', 'SAS', 'Tableau'}"
      ]
     },
     "execution_count": 49,
     "metadata": {},
     "output_type": "execute_result"
    }
   ],
   "source": [
    "# Difference Operation returns the values which first set have 2nd don't have\n",
    "# Equivalent Result\n",
    "# dataScientist – dataEngineer\n",
    "dataScientist.difference(dataEngineer)"
   ]
  },
  {
   "cell_type": "code",
   "execution_count": 50,
   "id": "bda9b130-9ecd-4c44-8201-12f096138144",
   "metadata": {},
   "outputs": [
    {
     "data": {
      "text/plain": [
       "{'Hadoop', 'Java', 'R', 'SAS', 'Scala', 'Tableau'}"
      ]
     },
     "execution_count": 50,
     "metadata": {},
     "output_type": "execute_result"
    }
   ],
   "source": [
    "#Symmetric will return which one have others don't have\n",
    "dataScientist.symmetric_difference(dataEngineer)"
   ]
  },
  {
   "cell_type": "code",
   "execution_count": 53,
   "id": "42734e14-4327-4507-b0f8-75a2e07b755a",
   "metadata": {},
   "outputs": [
    {
     "data": {
      "text/plain": [
       "{frozenset({('a', 1), ('b', 2)})}"
      ]
     },
     "execution_count": 53,
     "metadata": {},
     "output_type": "execute_result"
    }
   ],
   "source": [
    "#Frozen Set\n",
    "nestedTuples = (('a', 1), ('b', 2))\n",
    "immutableSet = frozenset(nestedTuples)\n",
    "nestedSets = set([immutableSet])\n",
    "nestedSets"
   ]
  },
  {
   "cell_type": "code",
   "execution_count": 67,
   "id": "a60556c3-8c4d-494c-ba36-3493bc9d8535",
   "metadata": {},
   "outputs": [
    {
     "name": "stdout",
     "output_type": "stream",
     "text": [
      "Error\n"
     ]
    }
   ],
   "source": [
    "#Python Exception Handling\n",
    "def myfunction(a, b):\n",
    "    return a + b\n",
    "try:\n",
    "    myfunction(100,'hundred')\n",
    "except:\n",
    "    print('Error')"
   ]
  },
  {
   "cell_type": "code",
   "execution_count": 76,
   "id": "b14253a2-4929-45bb-92a3-6849a1835efd",
   "metadata": {},
   "outputs": [
    {
     "name": "stdout",
     "output_type": "stream",
     "text": [
      "Errorunsupported operand type(s) for +: 'int' and 'str'\n"
     ]
    }
   ],
   "source": [
    "#TypeError and NameError as exception\n",
    "def myfunction(a, b):\n",
    "    return a + b\n",
    "try:\n",
    "    myfunction(100,'hundred')\n",
    "except (TypeError,NameError) as e:\n",
    "    print(f'Error{e}')"
   ]
  },
  {
   "cell_type": "code",
   "execution_count": 77,
   "id": "93301170-1b7b-4e28-b35e-a47d763aa306",
   "metadata": {},
   "outputs": [
    {
     "name": "stdin",
     "output_type": "stream",
     "text": [
      "Enter a number:  2\n"
     ]
    },
    {
     "name": "stdout",
     "output_type": "stream",
     "text": [
      "This always runs.\n"
     ]
    }
   ],
   "source": [
    "#Finally\n",
    "try:\n",
    "    x = int(input(\"Enter a number: \"))\n",
    "    result = 10 / x\n",
    "except ZeroDivisionError:\n",
    "    print(\"You can't divide by zero!\")\n",
    "finally:\n",
    "    print(\"This always runs.\")\n"
   ]
  },
  {
   "cell_type": "code",
   "execution_count": 79,
   "id": "2f6b5283-d863-47b2-9c21-64903aaac459",
   "metadata": {},
   "outputs": [],
   "source": [
    "#Exercise1:\n",
    "#Q1: Write a Python program to find the length of a set, apply all sets\n",
    "#operations(union,intersection) and print the results,find maximum and the minimum value in a\n",
    "#set,create a shallow copy of sets,check if a set is a subset of another set, remove all elements\n",
    "#from a given set,check if two given sets have no elements in common.check if a given set is\n",
    "#superset of itself and superset of another given set.\n",
    "#set1 = {1,2,3,4,5}\n",
    "#set2 = {4,5,6,7,8}\n"
   ]
  },
  {
   "cell_type": "code",
   "execution_count": 80,
   "id": "2332021f-7026-46b7-ae33-abe9a293a193",
   "metadata": {},
   "outputs": [
    {
     "data": {
      "text/plain": [
       "5"
      ]
     },
     "execution_count": 80,
     "metadata": {},
     "output_type": "execute_result"
    }
   ],
   "source": [
    "set1 = {1,2,3,4,5}\n",
    "set2 = {4,5,6,7,8}\n",
    "len(set1)"
   ]
  },
  {
   "cell_type": "code",
   "execution_count": 81,
   "id": "90308815-0606-41ca-8f1a-8e6ab5b2ac20",
   "metadata": {},
   "outputs": [
    {
     "data": {
      "text/plain": [
       "{1, 2, 3, 4, 5, 6, 7, 8}"
      ]
     },
     "execution_count": 81,
     "metadata": {},
     "output_type": "execute_result"
    }
   ],
   "source": [
    "#union\n",
    "set1.union(set2)"
   ]
  },
  {
   "cell_type": "code",
   "execution_count": 82,
   "id": "6e020465-bd4a-48d1-892b-55ea16d6f580",
   "metadata": {},
   "outputs": [
    {
     "data": {
      "text/plain": [
       "{4, 5}"
      ]
     },
     "execution_count": 82,
     "metadata": {},
     "output_type": "execute_result"
    }
   ],
   "source": [
    "#Intersection\n",
    "set1.intersection(set2)"
   ]
  },
  {
   "cell_type": "code",
   "execution_count": 89,
   "id": "efe9472f-a419-4aeb-98bd-2c1b3d2d8fbf",
   "metadata": {},
   "outputs": [
    {
     "name": "stdout",
     "output_type": "stream",
     "text": [
      "max in set1 is: 5\n"
     ]
    }
   ],
   "source": [
    "print('max in set1 is:',max(set1))"
   ]
  },
  {
   "cell_type": "code",
   "execution_count": 91,
   "id": "8775d16c-7439-455b-8f21-fc68ea077a66",
   "metadata": {},
   "outputs": [
    {
     "name": "stdout",
     "output_type": "stream",
     "text": [
      "max in set2 is: 8\n"
     ]
    }
   ],
   "source": [
    "print('max in set2 is:',max(set2))"
   ]
  },
  {
   "cell_type": "code",
   "execution_count": 92,
   "id": "a8667f10-cbb6-43fb-8357-6197667d5c80",
   "metadata": {},
   "outputs": [],
   "source": [
    "shallowcopyset1=set(set1)\n",
    "shallowcopyset2=set(set2)"
   ]
  },
  {
   "cell_type": "code",
   "execution_count": 93,
   "id": "8f4de625-6ba8-4d20-b80d-014acf96d22c",
   "metadata": {},
   "outputs": [
    {
     "data": {
      "text/plain": [
       "{1, 2, 3, 4, 5}"
      ]
     },
     "execution_count": 93,
     "metadata": {},
     "output_type": "execute_result"
    }
   ],
   "source": [
    "shallowcopyset1"
   ]
  },
  {
   "cell_type": "code",
   "execution_count": 94,
   "id": "2434059d-4c81-4976-84af-7ceb9d1a7bfd",
   "metadata": {},
   "outputs": [
    {
     "data": {
      "text/plain": [
       "{4, 5, 6, 7, 8}"
      ]
     },
     "execution_count": 94,
     "metadata": {},
     "output_type": "execute_result"
    }
   ],
   "source": [
    "shallowcopyset2"
   ]
  },
  {
   "cell_type": "code",
   "execution_count": 95,
   "id": "747ada18-d960-4cf2-a44b-afe9b5478635",
   "metadata": {},
   "outputs": [
    {
     "data": {
      "text/plain": [
       "False"
      ]
     },
     "execution_count": 95,
     "metadata": {},
     "output_type": "execute_result"
    }
   ],
   "source": [
    "set1.issubset(set2)"
   ]
  },
  {
   "cell_type": "code",
   "execution_count": 96,
   "id": "3b51ebb0-fd5d-4882-b3b1-139e00fe8eb8",
   "metadata": {},
   "outputs": [
    {
     "data": {
      "text/plain": [
       "False"
      ]
     },
     "execution_count": 96,
     "metadata": {},
     "output_type": "execute_result"
    }
   ],
   "source": [
    "set1.isdisjoint(set2)"
   ]
  },
  {
   "cell_type": "code",
   "execution_count": 97,
   "id": "6b5c3a3e-a75d-4b62-9fcd-176cb6834819",
   "metadata": {},
   "outputs": [
    {
     "data": {
      "text/plain": [
       "False"
      ]
     },
     "execution_count": 97,
     "metadata": {},
     "output_type": "execute_result"
    }
   ],
   "source": [
    "set1.issuperset(set2)"
   ]
  },
  {
   "cell_type": "code",
   "execution_count": 100,
   "id": "a4404fcf-88e5-493e-aebc-30e27d0d0f4d",
   "metadata": {},
   "outputs": [],
   "source": [
    "set1.clear()\n",
    "set2.clear()\n",
    "shallowcopyset2.clear()\n",
    "shallowcopyset1.clear()"
   ]
  },
  {
   "cell_type": "code",
   "execution_count": 101,
   "id": "bc09117f-2dd4-4ed8-a00a-e689a5556124",
   "metadata": {},
   "outputs": [
    {
     "data": {
      "text/plain": [
       "set()"
      ]
     },
     "execution_count": 101,
     "metadata": {},
     "output_type": "execute_result"
    }
   ],
   "source": [
    "#All Cleared\n",
    "set1\n",
    "set2\n",
    "shallowcopyset2\n",
    "shallowcopyset1"
   ]
  },
  {
   "cell_type": "code",
   "execution_count": 111,
   "id": "0de0be06-0b27-4a79-b1cf-55a0e3071f03",
   "metadata": {},
   "outputs": [
    {
     "name": "stdout",
     "output_type": "stream",
     "text": [
      "number of vowels are : 3\n"
     ]
    }
   ],
   "source": [
    "#Exercise2\n",
    "#Q2:Python program to count the number of vowels using sets in a given string.\n",
    "\n",
    "def numberofvowels(variable):\n",
    "    vowels={'a','e','i','o','u'}\n",
    "    count=0\n",
    "    for char in variable.lower():\n",
    "        if char in vowels:\n",
    "            count+=1\n",
    "        \n",
    "    return count\n",
    "    \n",
    "x=print(\"number of vowels are :\",numberofvowels('Hello World'))\n",
    "x"
   ]
  },
  {
   "cell_type": "code",
   "execution_count": 112,
   "id": "ea3d5ea5-7573-48ac-b3f4-3cd0ecad3497",
   "metadata": {},
   "outputs": [
    {
     "name": "stdout",
     "output_type": "stream",
     "text": [
      "Addition: 12, Multiplication: 20, Division: 5.0\n"
     ]
    }
   ],
   "source": [
    "#Exercise3\n",
    "#Q:3 Write a function to add, mul, divide two numbers x and y. Implement exception handling technique \n",
    "def calculate(x, y):\n",
    "    try:\n",
    "        # Addition\n",
    "        addition = x + y\n",
    "        # Multiplication\n",
    "        multiplication = x * y\n",
    "        # Division with zero-division exception handling\n",
    "        division = x / y if y != 0 else \"Cannot divide by zero\"\n",
    "        \n",
    "        return addition, multiplication, division\n",
    "\n",
    "    except TypeError:\n",
    "        return \"Both inputs must be numbers\"\n",
    "    except ZeroDivisionError:\n",
    "        return \"Cannot divide by zero\"\n",
    "    except Exception as e:\n",
    "        return f\"An error occurred: {e}\"\n",
    "\n",
    "# Example usage\n",
    "x = 10\n",
    "y = 2\n",
    "result = calculate(x, y)\n",
    "print(f\"Addition: {result[0]}, Multiplication: {result[1]}, Division: {result[2]}\")\n"
   ]
  },
  {
   "cell_type": "code",
   "execution_count": null,
   "id": "6db607e1-c1b9-4445-b5e3-63dff465f84c",
   "metadata": {},
   "outputs": [],
   "source": []
  }
 ],
 "metadata": {
  "kernelspec": {
   "display_name": "Python 3 (ipykernel)",
   "language": "python",
   "name": "python3"
  },
  "language_info": {
   "codemirror_mode": {
    "name": "ipython",
    "version": 3
   },
   "file_extension": ".py",
   "mimetype": "text/x-python",
   "name": "python",
   "nbconvert_exporter": "python",
   "pygments_lexer": "ipython3",
   "version": "3.13.3"
  }
 },
 "nbformat": 4,
 "nbformat_minor": 5
}
